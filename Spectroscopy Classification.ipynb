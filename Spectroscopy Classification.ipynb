{
 "cells": [
  {
   "cell_type": "code",
   "execution_count": 18,
   "id": "4580ba60",
   "metadata": {},
   "outputs": [],
   "source": [
    "import pandas as pd\n",
    "##### imports the feature and label\n",
    "data = pd.read_csv(r\"C:\\Users\\ASUS\\Raw Feature.csv\")\n",
    "label = pd.read_csv(r\"C:\\Users\\ASUS\\OneDrive - University of the Philippines\\Desktop\\University of the Philippines\\Fourth Year Second Sem\\MATH 190\\Sir Dataset\\Compiled.csv\") \n"
   ]
  },
  {
   "cell_type": "code",
   "execution_count": 19,
   "id": "a71e499f",
   "metadata": {},
   "outputs": [],
   "source": [
    "label_1 = label.iloc[0:,0].to_numpy()"
   ]
  },
  {
   "cell_type": "code",
   "execution_count": 20,
   "id": "c730f5fa",
   "metadata": {},
   "outputs": [
    {
     "data": {
      "text/plain": [
       "(540, 28)"
      ]
     },
     "execution_count": 20,
     "metadata": {},
     "output_type": "execute_result"
    }
   ],
   "source": [
    "data.shape"
   ]
  },
  {
   "cell_type": "code",
   "execution_count": 21,
   "id": "db6ea6db",
   "metadata": {},
   "outputs": [
    {
     "data": {
      "text/plain": [
       "(540, 2)"
      ]
     },
     "execution_count": 21,
     "metadata": {},
     "output_type": "execute_result"
    }
   ],
   "source": [
    "from sklearn.decomposition import PCA #### imports PCA module from sklearn.decomposition.\n",
    "pca=PCA(0.95) #### creates an instance of PCA that will choose the components such that 99% of variance is retained. \n",
    "pca.fit(data) #### calls the pca instance and apply a fit method on the data that we want to reduce.\n",
    "X_tda = pca.transform(data) ##### transforms the data into lower dimensional data.\n",
    "X_tda.shape ### Shape check, to see how much dimension was reduced. "
   ]
  },
  {
   "cell_type": "code",
   "execution_count": 22,
   "id": "f8b4958f",
   "metadata": {},
   "outputs": [
    {
     "name": "stdout",
     "output_type": "stream",
     "text": [
      "X_train shape: (432, 28), Y_train shape: (432,)\n",
      "X_test shape: (108, 28), Y_test shape: (108,)\n"
     ]
    }
   ],
   "source": [
    "#### This Section was dedicated for partitioning the dataset into training and testing subsets. We will use the 80-20 ratio \n",
    "\n",
    "from sklearn.model_selection import train_test_split\n",
    "\n",
    "train_size, test_size = 432, 108\n",
    "\n",
    "X_train, X_test, Y_train, Y_test = train_test_split(data, label_1, train_size=train_size, test_size=test_size, stratify=label_1) \n",
    "# Code above prepares allocates the training data and testing data\n",
    "print(f\"X_train shape: {X_train.shape}, Y_train shape: {Y_train.shape}\")\n",
    "print(f\"X_test shape: {X_test.shape}, Y_test shape: {Y_test.shape}\")"
   ]
  },
  {
   "cell_type": "code",
   "execution_count": 23,
   "id": "abd61752",
   "metadata": {},
   "outputs": [
    {
     "data": {
      "text/plain": [
       "0.4351851851851852"
      ]
     },
     "execution_count": 23,
     "metadata": {},
     "output_type": "execute_result"
    }
   ],
   "source": [
    "#Random Forest Classification \n",
    "#### Project Checkpoint \n",
    "from sklearn.ensemble import RandomForestClassifier\n",
    "\n",
    "rf = RandomForestClassifier()\n",
    "rf.fit(X_train, Y_train)\n",
    "\n",
    "rf.score(X_test, Y_test)"
   ]
  },
  {
   "cell_type": "code",
   "execution_count": 24,
   "id": "a37822be",
   "metadata": {},
   "outputs": [
    {
     "data": {
      "text/plain": [
       "0.4444444444444444"
      ]
     },
     "execution_count": 24,
     "metadata": {},
     "output_type": "execute_result"
    }
   ],
   "source": [
    "#Support vector machine\n",
    "from sklearn.pipeline import make_pipeline\n",
    "from sklearn.preprocessing import StandardScaler\n",
    "from sklearn.svm import SVC\n",
    "\n",
    "svc = make_pipeline(StandardScaler(), SVC(gamma='auto'))\n",
    "svc.fit(X_train, Y_train)\n",
    "\n",
    "svc.score(X_test, Y_test)"
   ]
  },
  {
   "cell_type": "code",
   "execution_count": 25,
   "id": "f9c46717",
   "metadata": {},
   "outputs": [
    {
     "name": "stderr",
     "output_type": "stream",
     "text": [
      "C:\\Users\\ASUS\\anaconda3\\lib\\site-packages\\sklearn\\neighbors\\_classification.py:228: FutureWarning: Unlike other reduction functions (e.g. `skew`, `kurtosis`), the default behavior of `mode` typically preserves the axis it acts along. In SciPy 1.11.0, this behavior will change: the default value of `keepdims` will become False, the `axis` over which the statistic is taken will be eliminated, and the value None will no longer be accepted. Set `keepdims` to True or False to avoid this warning.\n",
      "  mode, _ = stats.mode(_y[neigh_ind, k], axis=1)\n"
     ]
    },
    {
     "data": {
      "text/plain": [
       "0.37962962962962965"
      ]
     },
     "execution_count": 25,
     "metadata": {},
     "output_type": "execute_result"
    }
   ],
   "source": [
    "#Knn\n",
    "from sklearn.neighbors import KNeighborsClassifier\n",
    "\n",
    "neigh = make_pipeline(StandardScaler(), KNeighborsClassifier())\n",
    "neigh.fit(X_train, Y_train)\n",
    "\n",
    "neigh.score(X_test, Y_test)"
   ]
  },
  {
   "cell_type": "code",
   "execution_count": 26,
   "id": "2baa9382",
   "metadata": {},
   "outputs": [
    {
     "data": {
      "text/plain": [
       "0.4444444444444444"
      ]
     },
     "execution_count": 26,
     "metadata": {},
     "output_type": "execute_result"
    }
   ],
   "source": [
    "from sklearn.linear_model import LogisticRegression\n",
    "\n",
    "lr = make_pipeline(LogisticRegression(max_iter = 1000))\n",
    "lr.fit(X_train, Y_train)\n",
    "\n",
    "lr.score(X_test, Y_test)"
   ]
  },
  {
   "cell_type": "code",
   "execution_count": 27,
   "id": "e823bb85",
   "metadata": {},
   "outputs": [
    {
     "data": {
      "text/plain": [
       "0.37037037037037035"
      ]
     },
     "execution_count": 27,
     "metadata": {},
     "output_type": "execute_result"
    }
   ],
   "source": [
    "from sklearn.naive_bayes import GaussianNB\n",
    "\n",
    "gnb = make_pipeline(StandardScaler(), GaussianNB())\n",
    "gnb.fit(X_train, Y_train)\n",
    "\n",
    "gnb.score(X_test, Y_test)"
   ]
  },
  {
   "cell_type": "code",
   "execution_count": null,
   "id": "461a14e5",
   "metadata": {},
   "outputs": [],
   "source": []
  }
 ],
 "metadata": {
  "kernelspec": {
   "display_name": "Python 3 (ipykernel)",
   "language": "python",
   "name": "python3"
  },
  "language_info": {
   "codemirror_mode": {
    "name": "ipython",
    "version": 3
   },
   "file_extension": ".py",
   "mimetype": "text/x-python",
   "name": "python",
   "nbconvert_exporter": "python",
   "pygments_lexer": "ipython3",
   "version": "3.9.13"
  }
 },
 "nbformat": 4,
 "nbformat_minor": 5
}
