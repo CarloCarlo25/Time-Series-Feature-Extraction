{
 "cells": [
  {
   "cell_type": "code",
   "execution_count": 1,
   "id": "155e5f1b",
   "metadata": {},
   "outputs": [],
   "source": [
    "import pandas as pd\n",
    "\n",
    "##### Imports image dataset ####### \n",
    "data = pd.read_csv(r\"C:\\Users\\ASUS\\OneDrive - University of the Philippines\\Desktop\\University of the Philippines\\Fourth Year Second Sem\\MATH 190\\Sir Dataset\\Compiled.csv\") \n",
    "\n",
    "#### array Indexing ###\n",
    "X = data.iloc[:,1:71].to_numpy() #Data\n",
    "Y = data.iloc[:,0].to_numpy()"
   ]
  },
  {
   "cell_type": "code",
   "execution_count": 2,
   "id": "bed71fd3",
   "metadata": {},
   "outputs": [
    {
     "data": {
      "text/plain": [
       "(540, 70)"
      ]
     },
     "execution_count": 2,
     "metadata": {},
     "output_type": "execute_result"
    }
   ],
   "source": [
    "X.shape"
   ]
  },
  {
   "cell_type": "code",
   "execution_count": 94,
   "id": "aab0b74b",
   "metadata": {},
   "outputs": [],
   "source": [
    "## Embed all of the data into 3 dimension\n",
    "\n",
    "from sklearn.pipeline import make_pipeline\n",
    "embedding_dimension = 3\n",
    "embedding_time_delay = 16\n",
    "stride = 3\n",
    "TE = SingleTakensEmbedding(\n",
    "                parameters_type=\"fixed\",\n",
    "                n_jobs=2,\n",
    "                time_delay=embedding_time_delay,\n",
    "                dimension=embedding_dimension,\n",
    "                stride=stride,\n",
    "                )\n",
    "Takens_emb = np.array([TE.fit_transform(instance) for instance in X])"
   ]
  },
  {
   "cell_type": "code",
   "execution_count": 95,
   "id": "5e1fe2c6",
   "metadata": {},
   "outputs": [],
   "source": [
    "y_embedded = np.array([instance[None, :, :] for instance in Takens_emb]) "
   ]
  },
  {
   "cell_type": "code",
   "execution_count": 3,
   "id": "57b3d4e5",
   "metadata": {},
   "outputs": [],
   "source": [
    "### Topological Pipeline\n",
    "\n",
    "##### Imports the necessary modules #######\n",
    "from sklearn.pipeline import make_pipeline, make_union\n",
    "from gtda.diagrams import PersistenceEntropy\n",
    "from gtda.homology import VietorisRipsPersistence\n",
    "from gtda.diagrams import Scaler\n",
    "from gtda.diagrams import Amplitude\n",
    "\n",
    "homology_dimensions = [0, 1]\n",
    "\n",
    "\n",
    "###### Persistence diagram acquisition ########\n",
    "diagram_steps = [\n",
    "    [\n",
    "        VietorisRipsPersistence(homology_dimensions=homology_dimensions, n_jobs=6),\n",
    "        Scaler(n_jobs=-1),\n",
    "    ]\n",
    "]\n",
    "\n",
    "####### list of metric used to obtain the amplitude of PD ########\n",
    "metric_list = [\n",
    "    {\"metric\": \"bottleneck\", \"metric_params\": {}},\n",
    "    {\"metric\": \"wasserstein\", \"metric_params\": {\"p\": 1}},\n",
    "    {\"metric\": \"wasserstein\", \"metric_params\": {\"p\": 2}},\n",
    "    {\"metric\": \"landscape\", \"metric_params\": {\"p\": 1, \"n_layers\": 1, \"n_bins\": 50}},\n",
    "    {\"metric\": \"landscape\", \"metric_params\": {\"p\": 1, \"n_layers\": 2, \"n_bins\": 50}},\n",
    "    {\"metric\": \"landscape\", \"metric_params\": {\"p\": 2, \"n_layers\": 1, \"n_bins\": 50}},\n",
    "    {\"metric\": \"landscape\", \"metric_params\": {\"p\": 2, \"n_layers\": 2, \"n_bins\": 50}},\n",
    "    {\"metric\": \"betti\", \"metric_params\": {\"p\": 1, \"n_bins\": 50}},\n",
    "    {\"metric\": \"betti\", \"metric_params\": {\"p\": 2, \"n_bins\": 50}},\n",
    "    {\"metric\": \"heat\", \"metric_params\": {\"p\": 1, \"sigma\": 0.15, \"n_bins\": 50}},\n",
    "    {\"metric\": \"heat\", \"metric_params\": {\"p\": 1, \"sigma\": 0.15, \"n_bins\": 50}},\n",
    "    {\"metric\": \"heat\", \"metric_params\": {\"p\": 2, \"sigma\": 0.15, \"n_bins\": 50}},\n",
    "    {\"metric\": \"heat\", \"metric_params\": {\"p\": 2, \"sigma\": 0.15, \"n_bins\": 50}},\n",
    "]\n",
    "\n",
    "####### union of all features as an ordered n-tuples i.e. n-dimensional vector, in our case the resulting feature has 476 dimension #######\n",
    "feature_union = make_union(\n",
    "    *[PersistenceEntropy(nan_fill_value=-1)]\n",
    "    + [Amplitude(**metric, n_jobs=-1) for metric in metric_list]\n",
    ")\n",
    "\n",
    "####### Pipeline union. this way a pipeline is analogous to a function that maps every data point to a feature vector########\n",
    "tda_union = make_union(\n",
    "    *[make_pipeline(*diagram_step, feature_union) for diagram_step in diagram_steps],\n",
    "    n_jobs=-1\n",
    ")\n",
    "     "
   ]
  },
  {
   "cell_type": "code",
   "execution_count": 4,
   "id": "dcc57710",
   "metadata": {},
   "outputs": [
    {
     "data": {
      "text/html": [
       "<style>#sk-c8e9b073-c004-4561-8bed-74b03440f93d {color: black;background-color: white;}#sk-c8e9b073-c004-4561-8bed-74b03440f93d pre{padding: 0;}#sk-c8e9b073-c004-4561-8bed-74b03440f93d div.sk-toggleable {background-color: white;}#sk-c8e9b073-c004-4561-8bed-74b03440f93d label.sk-toggleable__label {cursor: pointer;display: block;width: 100%;margin-bottom: 0;padding: 0.3em;box-sizing: border-box;text-align: center;}#sk-c8e9b073-c004-4561-8bed-74b03440f93d label.sk-toggleable__label-arrow:before {content: \"▸\";float: left;margin-right: 0.25em;color: #696969;}#sk-c8e9b073-c004-4561-8bed-74b03440f93d label.sk-toggleable__label-arrow:hover:before {color: black;}#sk-c8e9b073-c004-4561-8bed-74b03440f93d div.sk-estimator:hover label.sk-toggleable__label-arrow:before {color: black;}#sk-c8e9b073-c004-4561-8bed-74b03440f93d div.sk-toggleable__content {max-height: 0;max-width: 0;overflow: hidden;text-align: left;background-color: #f0f8ff;}#sk-c8e9b073-c004-4561-8bed-74b03440f93d div.sk-toggleable__content pre {margin: 0.2em;color: black;border-radius: 0.25em;background-color: #f0f8ff;}#sk-c8e9b073-c004-4561-8bed-74b03440f93d input.sk-toggleable__control:checked~div.sk-toggleable__content {max-height: 200px;max-width: 100%;overflow: auto;}#sk-c8e9b073-c004-4561-8bed-74b03440f93d input.sk-toggleable__control:checked~label.sk-toggleable__label-arrow:before {content: \"▾\";}#sk-c8e9b073-c004-4561-8bed-74b03440f93d div.sk-estimator input.sk-toggleable__control:checked~label.sk-toggleable__label {background-color: #d4ebff;}#sk-c8e9b073-c004-4561-8bed-74b03440f93d div.sk-label input.sk-toggleable__control:checked~label.sk-toggleable__label {background-color: #d4ebff;}#sk-c8e9b073-c004-4561-8bed-74b03440f93d input.sk-hidden--visually {border: 0;clip: rect(1px 1px 1px 1px);clip: rect(1px, 1px, 1px, 1px);height: 1px;margin: -1px;overflow: hidden;padding: 0;position: absolute;width: 1px;}#sk-c8e9b073-c004-4561-8bed-74b03440f93d div.sk-estimator {font-family: monospace;background-color: #f0f8ff;border: 1px dotted black;border-radius: 0.25em;box-sizing: border-box;margin-bottom: 0.5em;}#sk-c8e9b073-c004-4561-8bed-74b03440f93d div.sk-estimator:hover {background-color: #d4ebff;}#sk-c8e9b073-c004-4561-8bed-74b03440f93d div.sk-parallel-item::after {content: \"\";width: 100%;border-bottom: 1px solid gray;flex-grow: 1;}#sk-c8e9b073-c004-4561-8bed-74b03440f93d div.sk-label:hover label.sk-toggleable__label {background-color: #d4ebff;}#sk-c8e9b073-c004-4561-8bed-74b03440f93d div.sk-serial::before {content: \"\";position: absolute;border-left: 1px solid gray;box-sizing: border-box;top: 2em;bottom: 0;left: 50%;}#sk-c8e9b073-c004-4561-8bed-74b03440f93d div.sk-serial {display: flex;flex-direction: column;align-items: center;background-color: white;padding-right: 0.2em;padding-left: 0.2em;}#sk-c8e9b073-c004-4561-8bed-74b03440f93d div.sk-item {z-index: 1;}#sk-c8e9b073-c004-4561-8bed-74b03440f93d div.sk-parallel {display: flex;align-items: stretch;justify-content: center;background-color: white;}#sk-c8e9b073-c004-4561-8bed-74b03440f93d div.sk-parallel::before {content: \"\";position: absolute;border-left: 1px solid gray;box-sizing: border-box;top: 2em;bottom: 0;left: 50%;}#sk-c8e9b073-c004-4561-8bed-74b03440f93d div.sk-parallel-item {display: flex;flex-direction: column;position: relative;background-color: white;}#sk-c8e9b073-c004-4561-8bed-74b03440f93d div.sk-parallel-item:first-child::after {align-self: flex-end;width: 50%;}#sk-c8e9b073-c004-4561-8bed-74b03440f93d div.sk-parallel-item:last-child::after {align-self: flex-start;width: 50%;}#sk-c8e9b073-c004-4561-8bed-74b03440f93d div.sk-parallel-item:only-child::after {width: 0;}#sk-c8e9b073-c004-4561-8bed-74b03440f93d div.sk-dashed-wrapped {border: 1px dashed gray;margin: 0 0.4em 0.5em 0.4em;box-sizing: border-box;padding-bottom: 0.4em;background-color: white;position: relative;}#sk-c8e9b073-c004-4561-8bed-74b03440f93d div.sk-label label {font-family: monospace;font-weight: bold;background-color: white;display: inline-block;line-height: 1.2em;}#sk-c8e9b073-c004-4561-8bed-74b03440f93d div.sk-label-container {position: relative;z-index: 2;text-align: center;}#sk-c8e9b073-c004-4561-8bed-74b03440f93d div.sk-container {/* jupyter's `normalize.less` sets `[hidden] { display: none; }` but bootstrap.min.css set `[hidden] { display: none !important; }` so we also need the `!important` here to be able to override the default hidden behavior on the sphinx rendered scikit-learn.org. See: https://github.com/scikit-learn/scikit-learn/issues/21755 */display: inline-block !important;position: relative;}#sk-c8e9b073-c004-4561-8bed-74b03440f93d div.sk-text-repr-fallback {display: none;}</style><div id=\"sk-c8e9b073-c004-4561-8bed-74b03440f93d\" class=\"sk-top-container\"><div class=\"sk-text-repr-fallback\"><pre>FeatureUnion(n_jobs=-1,\n",
       "             transformer_list=[(&#x27;pipeline&#x27;,\n",
       "                                Pipeline(steps=[(&#x27;vietorisripspersistence&#x27;,\n",
       "                                                 VietorisRipsPersistence(homology_dimensions=[0,\n",
       "                                                                                              1],\n",
       "                                                                         n_jobs=6)),\n",
       "                                                (&#x27;scaler&#x27;, Scaler(n_jobs=-1)),\n",
       "                                                (&#x27;featureunion&#x27;,\n",
       "                                                 FeatureUnion(transformer_list=[(&#x27;persistenceentropy&#x27;,\n",
       "                                                                                 PersistenceEntropy(nan_fill_value=-1)),\n",
       "                                                                                (&#x27;amplitude-1&#x27;,\n",
       "                                                                                 Amplitude(metric=&#x27;bottleneck&#x27;,\n",
       "                                                                                           metric_para...\n",
       "                                                                                           metric_params={&#x27;n_bins&#x27;: 50,\n",
       "                                                                                                          &#x27;p&#x27;: 1,\n",
       "                                                                                                          &#x27;sigma&#x27;: 0.15},\n",
       "                                                                                           n_jobs=-1)),\n",
       "                                                                                (&#x27;amplitude-11&#x27;,\n",
       "                                                                                 Amplitude(metric=&#x27;heat&#x27;,\n",
       "                                                                                           metric_params={&#x27;n_bins&#x27;: 50,\n",
       "                                                                                                          &#x27;p&#x27;: 1,\n",
       "                                                                                                          &#x27;sigma&#x27;: 0.15},\n",
       "                                                                                           n_jobs=-1)),\n",
       "                                                                                (&#x27;amplitude-12&#x27;,\n",
       "                                                                                 Amplitude(metric=&#x27;heat&#x27;,\n",
       "                                                                                           metric_params={&#x27;n_bins&#x27;: 50,\n",
       "                                                                                                          &#x27;p&#x27;: 2,\n",
       "                                                                                                          &#x27;sigma&#x27;: 0.15},\n",
       "                                                                                           n_jobs=-1)),\n",
       "                                                                                (&#x27;amplitude-13&#x27;,\n",
       "                                                                                 Amplitude(metric=&#x27;heat&#x27;,\n",
       "                                                                                           metric_params={&#x27;n_bins&#x27;: 50,\n",
       "                                                                                                          &#x27;p&#x27;: 2,\n",
       "                                                                                                          &#x27;sigma&#x27;: 0.15},\n",
       "                                                                                           n_jobs=-1))]))]))])</pre><b>Please rerun this cell to show the HTML repr or trust the notebook.</b></div><div class=\"sk-container\" hidden><div class=\"sk-item sk-dashed-wrapped\"><div class=\"sk-label-container\"><div class=\"sk-label sk-toggleable\"><input class=\"sk-toggleable__control sk-hidden--visually\" id=\"8d634952-4e6c-4423-ba5d-9d8a32332af7\" type=\"checkbox\" ><label for=\"8d634952-4e6c-4423-ba5d-9d8a32332af7\" class=\"sk-toggleable__label sk-toggleable__label-arrow\">FeatureUnion</label><div class=\"sk-toggleable__content\"><pre>FeatureUnion(n_jobs=-1,\n",
       "             transformer_list=[(&#x27;pipeline&#x27;,\n",
       "                                Pipeline(steps=[(&#x27;vietorisripspersistence&#x27;,\n",
       "                                                 VietorisRipsPersistence(homology_dimensions=[0,\n",
       "                                                                                              1],\n",
       "                                                                         n_jobs=6)),\n",
       "                                                (&#x27;scaler&#x27;, Scaler(n_jobs=-1)),\n",
       "                                                (&#x27;featureunion&#x27;,\n",
       "                                                 FeatureUnion(transformer_list=[(&#x27;persistenceentropy&#x27;,\n",
       "                                                                                 PersistenceEntropy(nan_fill_value=-1)),\n",
       "                                                                                (&#x27;amplitude-1&#x27;,\n",
       "                                                                                 Amplitude(metric=&#x27;bottleneck&#x27;,\n",
       "                                                                                           metric_para...\n",
       "                                                                                           metric_params={&#x27;n_bins&#x27;: 50,\n",
       "                                                                                                          &#x27;p&#x27;: 1,\n",
       "                                                                                                          &#x27;sigma&#x27;: 0.15},\n",
       "                                                                                           n_jobs=-1)),\n",
       "                                                                                (&#x27;amplitude-11&#x27;,\n",
       "                                                                                 Amplitude(metric=&#x27;heat&#x27;,\n",
       "                                                                                           metric_params={&#x27;n_bins&#x27;: 50,\n",
       "                                                                                                          &#x27;p&#x27;: 1,\n",
       "                                                                                                          &#x27;sigma&#x27;: 0.15},\n",
       "                                                                                           n_jobs=-1)),\n",
       "                                                                                (&#x27;amplitude-12&#x27;,\n",
       "                                                                                 Amplitude(metric=&#x27;heat&#x27;,\n",
       "                                                                                           metric_params={&#x27;n_bins&#x27;: 50,\n",
       "                                                                                                          &#x27;p&#x27;: 2,\n",
       "                                                                                                          &#x27;sigma&#x27;: 0.15},\n",
       "                                                                                           n_jobs=-1)),\n",
       "                                                                                (&#x27;amplitude-13&#x27;,\n",
       "                                                                                 Amplitude(metric=&#x27;heat&#x27;,\n",
       "                                                                                           metric_params={&#x27;n_bins&#x27;: 50,\n",
       "                                                                                                          &#x27;p&#x27;: 2,\n",
       "                                                                                                          &#x27;sigma&#x27;: 0.15},\n",
       "                                                                                           n_jobs=-1))]))]))])</pre></div></div></div><div class=\"sk-parallel\"><div class=\"sk-parallel-item\"><div class=\"sk-item\"><div class=\"sk-label-container\"><div class=\"sk-label sk-toggleable\"><label>pipeline</label></div></div><div class=\"sk-serial\"><div class=\"sk-item\"><div class=\"sk-serial\"><div class=\"sk-item\"><div class=\"sk-estimator sk-toggleable\"><input class=\"sk-toggleable__control sk-hidden--visually\" id=\"5b80da3b-d752-4db7-adcb-f15ac1ae6618\" type=\"checkbox\" ><label for=\"5b80da3b-d752-4db7-adcb-f15ac1ae6618\" class=\"sk-toggleable__label sk-toggleable__label-arrow\">VietorisRipsPersistence</label><div class=\"sk-toggleable__content\"><pre>VietorisRipsPersistence(homology_dimensions=[0, 1], n_jobs=6)</pre></div></div></div><div class=\"sk-item\"><div class=\"sk-estimator sk-toggleable\"><input class=\"sk-toggleable__control sk-hidden--visually\" id=\"b6cff854-7d06-454b-8d02-0ee541745c83\" type=\"checkbox\" ><label for=\"b6cff854-7d06-454b-8d02-0ee541745c83\" class=\"sk-toggleable__label sk-toggleable__label-arrow\">Scaler</label><div class=\"sk-toggleable__content\"><pre>Scaler(n_jobs=-1)</pre></div></div></div><div class=\"sk-item sk-dashed-wrapped\"><div class=\"sk-label-container\"><div class=\"sk-label sk-toggleable\"><input class=\"sk-toggleable__control sk-hidden--visually\" id=\"1fd548b6-784d-4834-a1c0-d1108ae1a6e0\" type=\"checkbox\" ><label for=\"1fd548b6-784d-4834-a1c0-d1108ae1a6e0\" class=\"sk-toggleable__label sk-toggleable__label-arrow\">featureunion: FeatureUnion</label><div class=\"sk-toggleable__content\"><pre>FeatureUnion(transformer_list=[(&#x27;persistenceentropy&#x27;,\n",
       "                                PersistenceEntropy(nan_fill_value=-1)),\n",
       "                               (&#x27;amplitude-1&#x27;,\n",
       "                                Amplitude(metric=&#x27;bottleneck&#x27;, metric_params={},\n",
       "                                          n_jobs=-1)),\n",
       "                               (&#x27;amplitude-2&#x27;,\n",
       "                                Amplitude(metric=&#x27;wasserstein&#x27;,\n",
       "                                          metric_params={&#x27;p&#x27;: 1}, n_jobs=-1)),\n",
       "                               (&#x27;amplitude-3&#x27;,\n",
       "                                Amplitude(metric=&#x27;wasserstein&#x27;,\n",
       "                                          metric_params={&#x27;p&#x27;: 2}, n_jobs=-1)),\n",
       "                               (&#x27;amplitude-4&#x27;,\n",
       "                                Amplitude...\n",
       "                                          metric_params={&#x27;n_bins&#x27;: 50, &#x27;p&#x27;: 1,\n",
       "                                                         &#x27;sigma&#x27;: 0.15},\n",
       "                                          n_jobs=-1)),\n",
       "                               (&#x27;amplitude-11&#x27;,\n",
       "                                Amplitude(metric=&#x27;heat&#x27;,\n",
       "                                          metric_params={&#x27;n_bins&#x27;: 50, &#x27;p&#x27;: 1,\n",
       "                                                         &#x27;sigma&#x27;: 0.15},\n",
       "                                          n_jobs=-1)),\n",
       "                               (&#x27;amplitude-12&#x27;,\n",
       "                                Amplitude(metric=&#x27;heat&#x27;,\n",
       "                                          metric_params={&#x27;n_bins&#x27;: 50, &#x27;p&#x27;: 2,\n",
       "                                                         &#x27;sigma&#x27;: 0.15},\n",
       "                                          n_jobs=-1)),\n",
       "                               (&#x27;amplitude-13&#x27;,\n",
       "                                Amplitude(metric=&#x27;heat&#x27;,\n",
       "                                          metric_params={&#x27;n_bins&#x27;: 50, &#x27;p&#x27;: 2,\n",
       "                                                         &#x27;sigma&#x27;: 0.15},\n",
       "                                          n_jobs=-1))])</pre></div></div></div><div class=\"sk-parallel\"><div class=\"sk-parallel-item\"><div class=\"sk-item\"><div class=\"sk-label-container\"><div class=\"sk-label sk-toggleable\"><label>persistenceentropy</label></div></div><div class=\"sk-serial\"><div class=\"sk-item\"><div class=\"sk-estimator sk-toggleable\"><input class=\"sk-toggleable__control sk-hidden--visually\" id=\"98dc71f9-f09d-4861-8591-68cfddbcc8d9\" type=\"checkbox\" ><label for=\"98dc71f9-f09d-4861-8591-68cfddbcc8d9\" class=\"sk-toggleable__label sk-toggleable__label-arrow\">PersistenceEntropy</label><div class=\"sk-toggleable__content\"><pre>PersistenceEntropy(nan_fill_value=-1)</pre></div></div></div></div></div></div><div class=\"sk-parallel-item\"><div class=\"sk-item\"><div class=\"sk-label-container\"><div class=\"sk-label sk-toggleable\"><label>amplitude-1</label></div></div><div class=\"sk-serial\"><div class=\"sk-item\"><div class=\"sk-estimator sk-toggleable\"><input class=\"sk-toggleable__control sk-hidden--visually\" id=\"ccf112db-5cd6-45e2-b431-bdbc774fe00a\" type=\"checkbox\" ><label for=\"ccf112db-5cd6-45e2-b431-bdbc774fe00a\" class=\"sk-toggleable__label sk-toggleable__label-arrow\">Amplitude</label><div class=\"sk-toggleable__content\"><pre>Amplitude(metric=&#x27;bottleneck&#x27;, metric_params={}, n_jobs=-1)</pre></div></div></div></div></div></div><div class=\"sk-parallel-item\"><div class=\"sk-item\"><div class=\"sk-label-container\"><div class=\"sk-label sk-toggleable\"><label>amplitude-2</label></div></div><div class=\"sk-serial\"><div class=\"sk-item\"><div class=\"sk-estimator sk-toggleable\"><input class=\"sk-toggleable__control sk-hidden--visually\" id=\"3c7a948e-28e4-45ae-bde4-65f4f03c3f89\" type=\"checkbox\" ><label for=\"3c7a948e-28e4-45ae-bde4-65f4f03c3f89\" class=\"sk-toggleable__label sk-toggleable__label-arrow\">Amplitude</label><div class=\"sk-toggleable__content\"><pre>Amplitude(metric=&#x27;wasserstein&#x27;, metric_params={&#x27;p&#x27;: 1}, n_jobs=-1)</pre></div></div></div></div></div></div><div class=\"sk-parallel-item\"><div class=\"sk-item\"><div class=\"sk-label-container\"><div class=\"sk-label sk-toggleable\"><label>amplitude-3</label></div></div><div class=\"sk-serial\"><div class=\"sk-item\"><div class=\"sk-estimator sk-toggleable\"><input class=\"sk-toggleable__control sk-hidden--visually\" id=\"2cc3c9cc-8e35-4745-b499-2d75b1f3f537\" type=\"checkbox\" ><label for=\"2cc3c9cc-8e35-4745-b499-2d75b1f3f537\" class=\"sk-toggleable__label sk-toggleable__label-arrow\">Amplitude</label><div class=\"sk-toggleable__content\"><pre>Amplitude(metric=&#x27;wasserstein&#x27;, metric_params={&#x27;p&#x27;: 2}, n_jobs=-1)</pre></div></div></div></div></div></div><div class=\"sk-parallel-item\"><div class=\"sk-item\"><div class=\"sk-label-container\"><div class=\"sk-label sk-toggleable\"><label>amplitude-4</label></div></div><div class=\"sk-serial\"><div class=\"sk-item\"><div class=\"sk-estimator sk-toggleable\"><input class=\"sk-toggleable__control sk-hidden--visually\" id=\"d35012d2-147a-451f-9d70-3e31de31ed52\" type=\"checkbox\" ><label for=\"d35012d2-147a-451f-9d70-3e31de31ed52\" class=\"sk-toggleable__label sk-toggleable__label-arrow\">Amplitude</label><div class=\"sk-toggleable__content\"><pre>Amplitude(metric_params={&#x27;n_bins&#x27;: 50, &#x27;n_layers&#x27;: 1, &#x27;p&#x27;: 1}, n_jobs=-1)</pre></div></div></div></div></div></div><div class=\"sk-parallel-item\"><div class=\"sk-item\"><div class=\"sk-label-container\"><div class=\"sk-label sk-toggleable\"><label>amplitude-5</label></div></div><div class=\"sk-serial\"><div class=\"sk-item\"><div class=\"sk-estimator sk-toggleable\"><input class=\"sk-toggleable__control sk-hidden--visually\" id=\"a5566a87-f1c9-4ae9-b6db-a8d9c6518e64\" type=\"checkbox\" ><label for=\"a5566a87-f1c9-4ae9-b6db-a8d9c6518e64\" class=\"sk-toggleable__label sk-toggleable__label-arrow\">Amplitude</label><div class=\"sk-toggleable__content\"><pre>Amplitude(metric_params={&#x27;n_bins&#x27;: 50, &#x27;n_layers&#x27;: 2, &#x27;p&#x27;: 1}, n_jobs=-1)</pre></div></div></div></div></div></div><div class=\"sk-parallel-item\"><div class=\"sk-item\"><div class=\"sk-label-container\"><div class=\"sk-label sk-toggleable\"><label>amplitude-6</label></div></div><div class=\"sk-serial\"><div class=\"sk-item\"><div class=\"sk-estimator sk-toggleable\"><input class=\"sk-toggleable__control sk-hidden--visually\" id=\"9b81d120-681d-46ca-a37f-3a624dce19ce\" type=\"checkbox\" ><label for=\"9b81d120-681d-46ca-a37f-3a624dce19ce\" class=\"sk-toggleable__label sk-toggleable__label-arrow\">Amplitude</label><div class=\"sk-toggleable__content\"><pre>Amplitude(metric_params={&#x27;n_bins&#x27;: 50, &#x27;n_layers&#x27;: 1, &#x27;p&#x27;: 2}, n_jobs=-1)</pre></div></div></div></div></div></div><div class=\"sk-parallel-item\"><div class=\"sk-item\"><div class=\"sk-label-container\"><div class=\"sk-label sk-toggleable\"><label>amplitude-7</label></div></div><div class=\"sk-serial\"><div class=\"sk-item\"><div class=\"sk-estimator sk-toggleable\"><input class=\"sk-toggleable__control sk-hidden--visually\" id=\"d388e77f-7424-40c0-b0d7-461db888c20b\" type=\"checkbox\" ><label for=\"d388e77f-7424-40c0-b0d7-461db888c20b\" class=\"sk-toggleable__label sk-toggleable__label-arrow\">Amplitude</label><div class=\"sk-toggleable__content\"><pre>Amplitude(metric_params={&#x27;n_bins&#x27;: 50, &#x27;n_layers&#x27;: 2, &#x27;p&#x27;: 2}, n_jobs=-1)</pre></div></div></div></div></div></div><div class=\"sk-parallel-item\"><div class=\"sk-item\"><div class=\"sk-label-container\"><div class=\"sk-label sk-toggleable\"><label>amplitude-8</label></div></div><div class=\"sk-serial\"><div class=\"sk-item\"><div class=\"sk-estimator sk-toggleable\"><input class=\"sk-toggleable__control sk-hidden--visually\" id=\"f2ce0350-b1ec-406d-9c21-772ce99951f1\" type=\"checkbox\" ><label for=\"f2ce0350-b1ec-406d-9c21-772ce99951f1\" class=\"sk-toggleable__label sk-toggleable__label-arrow\">Amplitude</label><div class=\"sk-toggleable__content\"><pre>Amplitude(metric=&#x27;betti&#x27;, metric_params={&#x27;n_bins&#x27;: 50, &#x27;p&#x27;: 1}, n_jobs=-1)</pre></div></div></div></div></div></div><div class=\"sk-parallel-item\"><div class=\"sk-item\"><div class=\"sk-label-container\"><div class=\"sk-label sk-toggleable\"><label>amplitude-9</label></div></div><div class=\"sk-serial\"><div class=\"sk-item\"><div class=\"sk-estimator sk-toggleable\"><input class=\"sk-toggleable__control sk-hidden--visually\" id=\"9b889918-2ed1-4f21-bdd0-b922f42e3cb0\" type=\"checkbox\" ><label for=\"9b889918-2ed1-4f21-bdd0-b922f42e3cb0\" class=\"sk-toggleable__label sk-toggleable__label-arrow\">Amplitude</label><div class=\"sk-toggleable__content\"><pre>Amplitude(metric=&#x27;betti&#x27;, metric_params={&#x27;n_bins&#x27;: 50, &#x27;p&#x27;: 2}, n_jobs=-1)</pre></div></div></div></div></div></div><div class=\"sk-parallel-item\"><div class=\"sk-item\"><div class=\"sk-label-container\"><div class=\"sk-label sk-toggleable\"><label>amplitude-10</label></div></div><div class=\"sk-serial\"><div class=\"sk-item\"><div class=\"sk-estimator sk-toggleable\"><input class=\"sk-toggleable__control sk-hidden--visually\" id=\"476aa732-308a-4923-8dc5-9c1faf949df8\" type=\"checkbox\" ><label for=\"476aa732-308a-4923-8dc5-9c1faf949df8\" class=\"sk-toggleable__label sk-toggleable__label-arrow\">Amplitude</label><div class=\"sk-toggleable__content\"><pre>Amplitude(metric=&#x27;heat&#x27;, metric_params={&#x27;n_bins&#x27;: 50, &#x27;p&#x27;: 1, &#x27;sigma&#x27;: 0.15},\n",
       "          n_jobs=-1)</pre></div></div></div></div></div></div><div class=\"sk-parallel-item\"><div class=\"sk-item\"><div class=\"sk-label-container\"><div class=\"sk-label sk-toggleable\"><label>amplitude-11</label></div></div><div class=\"sk-serial\"><div class=\"sk-item\"><div class=\"sk-estimator sk-toggleable\"><input class=\"sk-toggleable__control sk-hidden--visually\" id=\"04861523-fb9a-4c6a-9ee6-99883e95df27\" type=\"checkbox\" ><label for=\"04861523-fb9a-4c6a-9ee6-99883e95df27\" class=\"sk-toggleable__label sk-toggleable__label-arrow\">Amplitude</label><div class=\"sk-toggleable__content\"><pre>Amplitude(metric=&#x27;heat&#x27;, metric_params={&#x27;n_bins&#x27;: 50, &#x27;p&#x27;: 1, &#x27;sigma&#x27;: 0.15},\n",
       "          n_jobs=-1)</pre></div></div></div></div></div></div><div class=\"sk-parallel-item\"><div class=\"sk-item\"><div class=\"sk-label-container\"><div class=\"sk-label sk-toggleable\"><label>amplitude-12</label></div></div><div class=\"sk-serial\"><div class=\"sk-item\"><div class=\"sk-estimator sk-toggleable\"><input class=\"sk-toggleable__control sk-hidden--visually\" id=\"15e932ac-16d3-4e49-8275-5f98968e8562\" type=\"checkbox\" ><label for=\"15e932ac-16d3-4e49-8275-5f98968e8562\" class=\"sk-toggleable__label sk-toggleable__label-arrow\">Amplitude</label><div class=\"sk-toggleable__content\"><pre>Amplitude(metric=&#x27;heat&#x27;, metric_params={&#x27;n_bins&#x27;: 50, &#x27;p&#x27;: 2, &#x27;sigma&#x27;: 0.15},\n",
       "          n_jobs=-1)</pre></div></div></div></div></div></div><div class=\"sk-parallel-item\"><div class=\"sk-item\"><div class=\"sk-label-container\"><div class=\"sk-label sk-toggleable\"><label>amplitude-13</label></div></div><div class=\"sk-serial\"><div class=\"sk-item\"><div class=\"sk-estimator sk-toggleable\"><input class=\"sk-toggleable__control sk-hidden--visually\" id=\"cee69381-386c-412b-a9c0-1473bab96de4\" type=\"checkbox\" ><label for=\"cee69381-386c-412b-a9c0-1473bab96de4\" class=\"sk-toggleable__label sk-toggleable__label-arrow\">Amplitude</label><div class=\"sk-toggleable__content\"><pre>Amplitude(metric=&#x27;heat&#x27;, metric_params={&#x27;n_bins&#x27;: 50, &#x27;p&#x27;: 2, &#x27;sigma&#x27;: 0.15},\n",
       "          n_jobs=-1)</pre></div></div></div></div></div></div></div></div></div></div></div></div></div></div></div></div></div>"
      ],
      "text/plain": [
       "FeatureUnion(n_jobs=-1,\n",
       "             transformer_list=[('pipeline',\n",
       "                                Pipeline(steps=[('vietorisripspersistence',\n",
       "                                                 VietorisRipsPersistence(homology_dimensions=[0,\n",
       "                                                                                              1],\n",
       "                                                                         n_jobs=6)),\n",
       "                                                ('scaler', Scaler(n_jobs=-1)),\n",
       "                                                ('featureunion',\n",
       "                                                 FeatureUnion(transformer_list=[('persistenceentropy',\n",
       "                                                                                 PersistenceEntropy(nan_fill_value=-1)),\n",
       "                                                                                ('amplitude-1',\n",
       "                                                                                 Amplitude(metric='bottleneck',\n",
       "                                                                                           metric_para...\n",
       "                                                                                           metric_params={'n_bins': 50,\n",
       "                                                                                                          'p': 1,\n",
       "                                                                                                          'sigma': 0.15},\n",
       "                                                                                           n_jobs=-1)),\n",
       "                                                                                ('amplitude-11',\n",
       "                                                                                 Amplitude(metric='heat',\n",
       "                                                                                           metric_params={'n_bins': 50,\n",
       "                                                                                                          'p': 1,\n",
       "                                                                                                          'sigma': 0.15},\n",
       "                                                                                           n_jobs=-1)),\n",
       "                                                                                ('amplitude-12',\n",
       "                                                                                 Amplitude(metric='heat',\n",
       "                                                                                           metric_params={'n_bins': 50,\n",
       "                                                                                                          'p': 2,\n",
       "                                                                                                          'sigma': 0.15},\n",
       "                                                                                           n_jobs=-1)),\n",
       "                                                                                ('amplitude-13',\n",
       "                                                                                 Amplitude(metric='heat',\n",
       "                                                                                           metric_params={'n_bins': 50,\n",
       "                                                                                                          'p': 2,\n",
       "                                                                                                          'sigma': 0.15},\n",
       "                                                                                           n_jobs=-1))]))]))])"
      ]
     },
     "execution_count": 4,
     "metadata": {},
     "output_type": "execute_result"
    }
   ],
   "source": [
    "#### Displays the pipeline diagram ##### \n",
    "from sklearn import set_config\n",
    "set_config(display='diagram')  \n",
    "\n",
    "tda_union"
   ]
  },
  {
   "cell_type": "code",
   "execution_count": 103,
   "id": "29885d13",
   "metadata": {},
   "outputs": [],
   "source": [
    "X_tda = np.array([tda_union.fit_transform(instance) for instance in y_embedded])"
   ]
  },
  {
   "cell_type": "code",
   "execution_count": 106,
   "id": "816148d0",
   "metadata": {},
   "outputs": [
    {
     "data": {
      "text/plain": [
       "(540, 1, 28)"
      ]
     },
     "execution_count": 106,
     "metadata": {},
     "output_type": "execute_result"
    }
   ],
   "source": [
    "X_tda.shape"
   ]
  },
  {
   "cell_type": "code",
   "execution_count": 107,
   "id": "fd3cea31",
   "metadata": {},
   "outputs": [],
   "source": [
    "X_tda = np.reshape(X_tda, (X_tda.shape[0], X_tda.shape[2])) "
   ]
  },
  {
   "cell_type": "code",
   "execution_count": 108,
   "id": "972fe5f4",
   "metadata": {},
   "outputs": [
    {
     "data": {
      "text/plain": [
       "(540, 28)"
      ]
     },
     "execution_count": 108,
     "metadata": {},
     "output_type": "execute_result"
    }
   ],
   "source": [
    "X_tda.shape"
   ]
  },
  {
   "cell_type": "code",
   "execution_count": 110,
   "id": "91663ab4",
   "metadata": {},
   "outputs": [],
   "source": [
    "### export to csv as a feature dataset \n",
    "\n",
    "X_tda = pd.DataFrame(X_tda)\n",
    "X_tda.to_csv(\"Raw Feature.csv\", index=False)"
   ]
  },
  {
   "cell_type": "code",
   "execution_count": null,
   "id": "6c765892",
   "metadata": {},
   "outputs": [],
   "source": []
  }
 ],
 "metadata": {
  "kernelspec": {
   "display_name": "Python 3 (ipykernel)",
   "language": "python",
   "name": "python3"
  },
  "language_info": {
   "codemirror_mode": {
    "name": "ipython",
    "version": 3
   },
   "file_extension": ".py",
   "mimetype": "text/x-python",
   "name": "python",
   "nbconvert_exporter": "python",
   "pygments_lexer": "ipython3",
   "version": "3.9.13"
  }
 },
 "nbformat": 4,
 "nbformat_minor": 5
}
